{
 "cells": [
  {
   "cell_type": "code",
   "execution_count": 1,
   "metadata": {},
   "outputs": [],
   "source": [
    "import pandas as pd\n",
    "df = pd.read_csv(\"Crude_Oil_Data.csv\")"
   ]
  },
  {
   "cell_type": "code",
   "execution_count": 97,
   "metadata": {},
   "outputs": [],
   "source": [
    "import numpy as np\n",
    "\n",
    "df.columns\n",
    "df.duplicated().sum()\n",
    "df.isna().sum()\n",
    "df['Date'] = df['Date'].apply(lambda x : x.split(\" \")[0])\n",
    "df['Date'] = pd.to_datetime(df['Date'])\n",
    "\n",
    "df['Year'] = df['Date'].dt.year\n",
    "df['Month'] = df['Date'].dt.month\n",
    "df['DayOfWeek'] = df['Date'].dt.dayofweek\n",
    "df.drop(columns=\"Date\",inplace=True)\n",
    "\n",
    "# Cyclical Encoding for Month\n",
    "df['Month_sin'] = np.sin(2 * np.pi * df['Month'] / 12)\n",
    "df['Month_cos'] = np.cos(2 * np.pi * df['Month'] / 12)\n",
    "\n",
    "x = df.drop(columns=[\"High\",\"Low\"])\n",
    "y = df[[\"High\",\"Low\"]]\n",
    "\n",
    "# ['Adj_Close', 'Close', 'High', 'Low', 'Open', 'Volume', 'Year', 'Month','DayOfWeek', 'Month_sin', 'Month_cos']"
   ]
  },
  {
   "cell_type": "code",
   "execution_count": 98,
   "metadata": {},
   "outputs": [],
   "source": [
    "from sklearn.preprocessing import StandardScaler\n",
    "from sklearn.model_selection import train_test_split\n",
    "\n",
    "scaler_feature = StandardScaler()\n",
    "x_scaled = scaler_feature.fit_transform(x)\n",
    "scaler_target = StandardScaler()\n",
    "y_scaled = scaler_target.fit_transform(y)\n",
    "\n",
    "x_train,x_test,y_train,y_test = train_test_split(x_scaled,y_scaled,test_size=0.3)"
   ]
  },
  {
   "cell_type": "code",
   "execution_count": 99,
   "metadata": {},
   "outputs": [
    {
     "name": "stdout",
     "output_type": "stream",
     "text": [
      "SCORE :  0.9983528500881356\n",
      "MSE : [0.00152795 0.00168191]\n",
      "R2 SCORE :  [0.99842323 0.99828247]\n"
     ]
    }
   ],
   "source": [
    "from sklearn.multioutput import MultiOutputRegressor\n",
    "from sklearn.linear_model import LinearRegression\n",
    "from sklearn.metrics import mean_squared_error\n",
    "from sklearn.metrics import r2_score\n",
    "\n",
    "model = MultiOutputRegressor(LinearRegression())\n",
    "model.fit(x_train, y_train)\n",
    "y_pred = model.predict(x_test)\n",
    "score = model.score(x_test,y_test)\n",
    "print(\"SCORE : \",score)\n",
    "\n",
    "mse_l = mean_squared_error(y_test, y_pred, multioutput='raw_values')\n",
    "print(\"MSE :\", mse_l)\n",
    "r2_l = r2_score(y_test, y_pred, multioutput='raw_values')\n",
    "print(\"R2 SCORE : \",r2_l)\n"
   ]
  },
  {
   "cell_type": "code",
   "execution_count": 100,
   "metadata": {},
   "outputs": [
    {
     "data": {
      "text/plain": [
       "['model_with_scalers.pkl']"
      ]
     },
     "execution_count": 100,
     "metadata": {},
     "output_type": "execute_result"
    }
   ],
   "source": [
    "import joblib \n",
    "\n",
    "model_package = {\n",
    "    'scaler_feature': scaler_feature,\n",
    "    'scaler_target': scaler_target,\n",
    "    'model': model\n",
    "}\n",
    "\n",
    "joblib.dump(model_package, 'model_with_scalers.pkl')"
   ]
  }
 ],
 "metadata": {
  "kernelspec": {
   "display_name": "Python 3",
   "language": "python",
   "name": "python3"
  },
  "language_info": {
   "codemirror_mode": {
    "name": "ipython",
    "version": 3
   },
   "file_extension": ".py",
   "mimetype": "text/x-python",
   "name": "python",
   "nbconvert_exporter": "python",
   "pygments_lexer": "ipython3",
   "version": "3.9.0"
  }
 },
 "nbformat": 4,
 "nbformat_minor": 2
}
